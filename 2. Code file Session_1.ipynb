{
  "nbformat": 4,
  "nbformat_minor": 0,
  "metadata": {
    "colab": {
      "name": "Session-1.ipynb",
      "provenance": [],
      "collapsed_sections": [
        "Dzo__YrZEbrq",
        "7tMqTjguERb-",
        "KGpFLg4KFmbp",
        "Gh-kjmsNF30T",
        "b4cJwb6eQSWs"
      ]
    },
    "kernelspec": {
      "name": "python3",
      "display_name": "Python 3"
    },
    "language_info": {
      "name": "python"
    },
    "widgets": {
      "application/vnd.jupyter.widget-state+json": {
        "6c8c763d1e7645a090bb5a462c06fc95": {
          "model_module": "@jupyter-widgets/controls",
          "model_name": "HBoxModel",
          "model_module_version": "1.5.0",
          "state": {
            "_dom_classes": [],
            "_model_module": "@jupyter-widgets/controls",
            "_model_module_version": "1.5.0",
            "_model_name": "HBoxModel",
            "_view_count": null,
            "_view_module": "@jupyter-widgets/controls",
            "_view_module_version": "1.5.0",
            "_view_name": "HBoxView",
            "box_style": "",
            "children": [
              "IPY_MODEL_0224c5cdbd444bac9718885bc4fe1772",
              "IPY_MODEL_8b0c2eeab1c94910ac6af52b566ae666",
              "IPY_MODEL_9e639d982eac4d16b2507012db9fc2e3"
            ],
            "layout": "IPY_MODEL_d5bca50b386b41e88d55ac4b75e9186b"
          }
        },
        "0224c5cdbd444bac9718885bc4fe1772": {
          "model_module": "@jupyter-widgets/controls",
          "model_name": "HTMLModel",
          "model_module_version": "1.5.0",
          "state": {
            "_dom_classes": [],
            "_model_module": "@jupyter-widgets/controls",
            "_model_module_version": "1.5.0",
            "_model_name": "HTMLModel",
            "_view_count": null,
            "_view_module": "@jupyter-widgets/controls",
            "_view_module_version": "1.5.0",
            "_view_name": "HTMLView",
            "description": "",
            "description_tooltip": null,
            "layout": "IPY_MODEL_2c9a3b0d954b4c12b9085c0132b4574e",
            "placeholder": "​",
            "style": "IPY_MODEL_a795a84da3524c26a63d638705e98b8b",
            "value": "Done! Use &#x27;show&#x27; commands to display/save.   "
          }
        },
        "8b0c2eeab1c94910ac6af52b566ae666": {
          "model_module": "@jupyter-widgets/controls",
          "model_name": "FloatProgressModel",
          "model_module_version": "1.5.0",
          "state": {
            "_dom_classes": [],
            "_model_module": "@jupyter-widgets/controls",
            "_model_module_version": "1.5.0",
            "_model_name": "FloatProgressModel",
            "_view_count": null,
            "_view_module": "@jupyter-widgets/controls",
            "_view_module_version": "1.5.0",
            "_view_name": "ProgressView",
            "bar_style": "success",
            "description": "",
            "description_tooltip": null,
            "layout": "IPY_MODEL_b6149df67719481dbd40b9e8e969aa91",
            "max": 1,
            "min": 0,
            "orientation": "horizontal",
            "style": "IPY_MODEL_8c373d4e4015457ca71f9057ca65a65b",
            "value": 1
          }
        },
        "9e639d982eac4d16b2507012db9fc2e3": {
          "model_module": "@jupyter-widgets/controls",
          "model_name": "HTMLModel",
          "model_module_version": "1.5.0",
          "state": {
            "_dom_classes": [],
            "_model_module": "@jupyter-widgets/controls",
            "_model_module_version": "1.5.0",
            "_model_name": "HTMLModel",
            "_view_count": null,
            "_view_module": "@jupyter-widgets/controls",
            "_view_module_version": "1.5.0",
            "_view_name": "HTMLView",
            "description": "",
            "description_tooltip": null,
            "layout": "IPY_MODEL_fb169a425f2d4b58ba4e1846966d5924",
            "placeholder": "​",
            "style": "IPY_MODEL_b6f451e09eab4a2b9c50994942968896",
            "value": " [100%]   00:00 -&gt; (00:00 left)"
          }
        },
        "d5bca50b386b41e88d55ac4b75e9186b": {
          "model_module": "@jupyter-widgets/base",
          "model_name": "LayoutModel",
          "model_module_version": "1.2.0",
          "state": {
            "_model_module": "@jupyter-widgets/base",
            "_model_module_version": "1.2.0",
            "_model_name": "LayoutModel",
            "_view_count": null,
            "_view_module": "@jupyter-widgets/base",
            "_view_module_version": "1.2.0",
            "_view_name": "LayoutView",
            "align_content": null,
            "align_items": null,
            "align_self": null,
            "border": null,
            "bottom": null,
            "display": "inline-flex",
            "flex": null,
            "flex_flow": "row wrap",
            "grid_area": null,
            "grid_auto_columns": null,
            "grid_auto_flow": null,
            "grid_auto_rows": null,
            "grid_column": null,
            "grid_gap": null,
            "grid_row": null,
            "grid_template_areas": null,
            "grid_template_columns": null,
            "grid_template_rows": null,
            "height": null,
            "justify_content": null,
            "justify_items": null,
            "left": null,
            "margin": null,
            "max_height": null,
            "max_width": null,
            "min_height": null,
            "min_width": null,
            "object_fit": null,
            "object_position": null,
            "order": null,
            "overflow": null,
            "overflow_x": null,
            "overflow_y": null,
            "padding": null,
            "right": null,
            "top": null,
            "visibility": null,
            "width": "100%"
          }
        },
        "2c9a3b0d954b4c12b9085c0132b4574e": {
          "model_module": "@jupyter-widgets/base",
          "model_name": "LayoutModel",
          "model_module_version": "1.2.0",
          "state": {
            "_model_module": "@jupyter-widgets/base",
            "_model_module_version": "1.2.0",
            "_model_name": "LayoutModel",
            "_view_count": null,
            "_view_module": "@jupyter-widgets/base",
            "_view_module_version": "1.2.0",
            "_view_name": "LayoutView",
            "align_content": null,
            "align_items": null,
            "align_self": null,
            "border": null,
            "bottom": null,
            "display": null,
            "flex": null,
            "flex_flow": null,
            "grid_area": null,
            "grid_auto_columns": null,
            "grid_auto_flow": null,
            "grid_auto_rows": null,
            "grid_column": null,
            "grid_gap": null,
            "grid_row": null,
            "grid_template_areas": null,
            "grid_template_columns": null,
            "grid_template_rows": null,
            "height": null,
            "justify_content": null,
            "justify_items": null,
            "left": null,
            "margin": null,
            "max_height": null,
            "max_width": null,
            "min_height": null,
            "min_width": null,
            "object_fit": null,
            "object_position": null,
            "order": null,
            "overflow": null,
            "overflow_x": null,
            "overflow_y": null,
            "padding": null,
            "right": null,
            "top": null,
            "visibility": null,
            "width": null
          }
        },
        "a795a84da3524c26a63d638705e98b8b": {
          "model_module": "@jupyter-widgets/controls",
          "model_name": "DescriptionStyleModel",
          "model_module_version": "1.5.0",
          "state": {
            "_model_module": "@jupyter-widgets/controls",
            "_model_module_version": "1.5.0",
            "_model_name": "DescriptionStyleModel",
            "_view_count": null,
            "_view_module": "@jupyter-widgets/base",
            "_view_module_version": "1.2.0",
            "_view_name": "StyleView",
            "description_width": ""
          }
        },
        "b6149df67719481dbd40b9e8e969aa91": {
          "model_module": "@jupyter-widgets/base",
          "model_name": "LayoutModel",
          "model_module_version": "1.2.0",
          "state": {
            "_model_module": "@jupyter-widgets/base",
            "_model_module_version": "1.2.0",
            "_model_name": "LayoutModel",
            "_view_count": null,
            "_view_module": "@jupyter-widgets/base",
            "_view_module_version": "1.2.0",
            "_view_name": "LayoutView",
            "align_content": null,
            "align_items": null,
            "align_self": null,
            "border": null,
            "bottom": null,
            "display": null,
            "flex": "2",
            "flex_flow": null,
            "grid_area": null,
            "grid_auto_columns": null,
            "grid_auto_flow": null,
            "grid_auto_rows": null,
            "grid_column": null,
            "grid_gap": null,
            "grid_row": null,
            "grid_template_areas": null,
            "grid_template_columns": null,
            "grid_template_rows": null,
            "height": null,
            "justify_content": null,
            "justify_items": null,
            "left": null,
            "margin": null,
            "max_height": null,
            "max_width": null,
            "min_height": null,
            "min_width": null,
            "object_fit": null,
            "object_position": null,
            "order": null,
            "overflow": null,
            "overflow_x": null,
            "overflow_y": null,
            "padding": null,
            "right": null,
            "top": null,
            "visibility": null,
            "width": null
          }
        },
        "8c373d4e4015457ca71f9057ca65a65b": {
          "model_module": "@jupyter-widgets/controls",
          "model_name": "ProgressStyleModel",
          "model_module_version": "1.5.0",
          "state": {
            "_model_module": "@jupyter-widgets/controls",
            "_model_module_version": "1.5.0",
            "_model_name": "ProgressStyleModel",
            "_view_count": null,
            "_view_module": "@jupyter-widgets/base",
            "_view_module_version": "1.2.0",
            "_view_name": "StyleView",
            "bar_color": null,
            "description_width": ""
          }
        },
        "fb169a425f2d4b58ba4e1846966d5924": {
          "model_module": "@jupyter-widgets/base",
          "model_name": "LayoutModel",
          "model_module_version": "1.2.0",
          "state": {
            "_model_module": "@jupyter-widgets/base",
            "_model_module_version": "1.2.0",
            "_model_name": "LayoutModel",
            "_view_count": null,
            "_view_module": "@jupyter-widgets/base",
            "_view_module_version": "1.2.0",
            "_view_name": "LayoutView",
            "align_content": null,
            "align_items": null,
            "align_self": null,
            "border": null,
            "bottom": null,
            "display": null,
            "flex": null,
            "flex_flow": null,
            "grid_area": null,
            "grid_auto_columns": null,
            "grid_auto_flow": null,
            "grid_auto_rows": null,
            "grid_column": null,
            "grid_gap": null,
            "grid_row": null,
            "grid_template_areas": null,
            "grid_template_columns": null,
            "grid_template_rows": null,
            "height": null,
            "justify_content": null,
            "justify_items": null,
            "left": null,
            "margin": null,
            "max_height": null,
            "max_width": null,
            "min_height": null,
            "min_width": null,
            "object_fit": null,
            "object_position": null,
            "order": null,
            "overflow": null,
            "overflow_x": null,
            "overflow_y": null,
            "padding": null,
            "right": null,
            "top": null,
            "visibility": null,
            "width": null
          }
        },
        "b6f451e09eab4a2b9c50994942968896": {
          "model_module": "@jupyter-widgets/controls",
          "model_name": "DescriptionStyleModel",
          "model_module_version": "1.5.0",
          "state": {
            "_model_module": "@jupyter-widgets/controls",
            "_model_module_version": "1.5.0",
            "_model_name": "DescriptionStyleModel",
            "_view_count": null,
            "_view_module": "@jupyter-widgets/base",
            "_view_module_version": "1.2.0",
            "_view_name": "StyleView",
            "description_width": ""
          }
        }
      }
    }
  },
  "cells": [
    {
      "cell_type": "markdown",
      "source": [
        "#### Name : Bhavik Modi\n",
        "#### Email : bmodi700@gmail.com"
      ],
      "metadata": {
        "id": "HWTuBy6zoetO"
      }
    },
    {
      "cell_type": "markdown",
      "source": [
        "# Problem Statement: \n",
        "### Predict whether income exceeds $50K/yr based on census data."
      ],
      "metadata": {
        "id": "qWx0gnk5DmfN"
      }
    },
    {
      "cell_type": "markdown",
      "source": [
        "Steps Taken for Solution ⁉\n",
        "1. Perform EDA\n",
        "* EDA.html   \n",
        "Prepared HTML interactive Charts for all possible analysis\n",
        "\n",
        "*  Prepared PDF file for charts\n",
        "\n",
        "2. Prepare Model\n",
        "\n",
        "\n",
        "*   Used Auto Sklearn and Trained it for 10 mint\n",
        "\n"
      ],
      "metadata": {
        "id": "y-jVPUTrlV3j"
      }
    },
    {
      "cell_type": "code",
      "source": [
        ""
      ],
      "metadata": {
        "id": "RyWmcRnAlVTC"
      },
      "execution_count": null,
      "outputs": []
    },
    {
      "cell_type": "markdown",
      "source": [
        "![image.png](data:image/png;base64,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)"
      ],
      "metadata": {
        "id": "6-IOmSKSDzcT"
      }
    },
    {
      "cell_type": "markdown",
      "source": [
        "## Library Imports"
      ],
      "metadata": {
        "id": "Dzo__YrZEbrq"
      }
    },
    {
      "cell_type": "code",
      "source": [
        "!pip install sweetviz"
      ],
      "metadata": {
        "id": "6oYLwLcJGT8l"
      },
      "execution_count": null,
      "outputs": []
    },
    {
      "cell_type": "code",
      "source": [
        "import pandas as pd\n",
        "import numpy as np\n",
        "from scipy import stats \n",
        "\n",
        "import plotly.express as px\n",
        "import sweetviz as sv\n",
        "import pandas_profiling as pp\n",
        "import matplotlib.pyplot as plt\n",
        "import matplotlib.gridspec as gridspec\n",
        "from matplotlib.backends.backend_pdf import PdfPages\n",
        "from matplotlib import style\n",
        "import seaborn as sns\n",
        "\n",
        "from datetime import datetime\n",
        "import pytz\n",
        "import time\n",
        "import os"
      ],
      "metadata": {
        "id": "hRiGQQMSEhJU"
      },
      "execution_count": 1,
      "outputs": []
    },
    {
      "cell_type": "code",
      "source": [
        "from autosklearn import regression,classification\n",
        "import sklearn\n",
        "from sklearn.model_selection import train_test_split\n",
        "import autosklearn\n",
        "from autosklearn.metrics import r2 as auto_r2, mean_squared_error as auto_mse \n",
        "from sklearn.metrics import mean_absolute_error,mean_squared_error,r2_score,make_scorer,confusion_matrix,f1_score,accuracy_score"
      ],
      "metadata": {
        "id": "qz09TcSYQhVY"
      },
      "execution_count": 32,
      "outputs": []
    },
    {
      "cell_type": "markdown",
      "source": [
        "## 1. Data Loading"
      ],
      "metadata": {
        "id": "7tMqTjguERb-"
      }
    },
    {
      "cell_type": "code",
      "source": [
        "master_df=pd.read_csv(\"/content/adult.csv\",na_values=' ?')"
      ],
      "metadata": {
        "id": "-8DFSEGYEZwq"
      },
      "execution_count": 3,
      "outputs": []
    },
    {
      "cell_type": "code",
      "source": [
        "master_df.head(5)"
      ],
      "metadata": {
        "colab": {
          "base_uri": "https://localhost:8080/",
          "height": 444
        },
        "id": "VE8V2EFaEvRt",
        "outputId": "c952d67b-803f-4c89-aa0d-92deccbf73dc"
      },
      "execution_count": 4,
      "outputs": [
        {
          "output_type": "execute_result",
          "data": {
            "text/plain": [
              "   age          workclass  fnlwgt   education  education-num  \\\n",
              "0   39          State-gov   77516   Bachelors             13   \n",
              "1   50   Self-emp-not-inc   83311   Bachelors             13   \n",
              "2   38            Private  215646     HS-grad              9   \n",
              "3   53            Private  234721        11th              7   \n",
              "4   28            Private  338409   Bachelors             13   \n",
              "\n",
              "        marital-status          occupation    relationship    race      sex  \\\n",
              "0        Never-married        Adm-clerical   Not-in-family   White     Male   \n",
              "1   Married-civ-spouse     Exec-managerial         Husband   White     Male   \n",
              "2             Divorced   Handlers-cleaners   Not-in-family   White     Male   \n",
              "3   Married-civ-spouse   Handlers-cleaners         Husband   Black     Male   \n",
              "4   Married-civ-spouse      Prof-specialty            Wife   Black   Female   \n",
              "\n",
              "   capital-gain  capital-loss  hours-per-week         country  salary  \n",
              "0          2174             0              40   United-States   <=50K  \n",
              "1             0             0              13   United-States   <=50K  \n",
              "2             0             0              40   United-States   <=50K  \n",
              "3             0             0              40   United-States   <=50K  \n",
              "4             0             0              40            Cuba   <=50K  "
            ],
            "text/html": [
              "\n",
              "  <div id=\"df-8b421f38-c933-4ecb-8bca-6be0e85e25ab\">\n",
              "    <div class=\"colab-df-container\">\n",
              "      <div>\n",
              "<style scoped>\n",
              "    .dataframe tbody tr th:only-of-type {\n",
              "        vertical-align: middle;\n",
              "    }\n",
              "\n",
              "    .dataframe tbody tr th {\n",
              "        vertical-align: top;\n",
              "    }\n",
              "\n",
              "    .dataframe thead th {\n",
              "        text-align: right;\n",
              "    }\n",
              "</style>\n",
              "<table border=\"1\" class=\"dataframe\">\n",
              "  <thead>\n",
              "    <tr style=\"text-align: right;\">\n",
              "      <th></th>\n",
              "      <th>age</th>\n",
              "      <th>workclass</th>\n",
              "      <th>fnlwgt</th>\n",
              "      <th>education</th>\n",
              "      <th>education-num</th>\n",
              "      <th>marital-status</th>\n",
              "      <th>occupation</th>\n",
              "      <th>relationship</th>\n",
              "      <th>race</th>\n",
              "      <th>sex</th>\n",
              "      <th>capital-gain</th>\n",
              "      <th>capital-loss</th>\n",
              "      <th>hours-per-week</th>\n",
              "      <th>country</th>\n",
              "      <th>salary</th>\n",
              "    </tr>\n",
              "  </thead>\n",
              "  <tbody>\n",
              "    <tr>\n",
              "      <th>0</th>\n",
              "      <td>39</td>\n",
              "      <td>State-gov</td>\n",
              "      <td>77516</td>\n",
              "      <td>Bachelors</td>\n",
              "      <td>13</td>\n",
              "      <td>Never-married</td>\n",
              "      <td>Adm-clerical</td>\n",
              "      <td>Not-in-family</td>\n",
              "      <td>White</td>\n",
              "      <td>Male</td>\n",
              "      <td>2174</td>\n",
              "      <td>0</td>\n",
              "      <td>40</td>\n",
              "      <td>United-States</td>\n",
              "      <td>&lt;=50K</td>\n",
              "    </tr>\n",
              "    <tr>\n",
              "      <th>1</th>\n",
              "      <td>50</td>\n",
              "      <td>Self-emp-not-inc</td>\n",
              "      <td>83311</td>\n",
              "      <td>Bachelors</td>\n",
              "      <td>13</td>\n",
              "      <td>Married-civ-spouse</td>\n",
              "      <td>Exec-managerial</td>\n",
              "      <td>Husband</td>\n",
              "      <td>White</td>\n",
              "      <td>Male</td>\n",
              "      <td>0</td>\n",
              "      <td>0</td>\n",
              "      <td>13</td>\n",
              "      <td>United-States</td>\n",
              "      <td>&lt;=50K</td>\n",
              "    </tr>\n",
              "    <tr>\n",
              "      <th>2</th>\n",
              "      <td>38</td>\n",
              "      <td>Private</td>\n",
              "      <td>215646</td>\n",
              "      <td>HS-grad</td>\n",
              "      <td>9</td>\n",
              "      <td>Divorced</td>\n",
              "      <td>Handlers-cleaners</td>\n",
              "      <td>Not-in-family</td>\n",
              "      <td>White</td>\n",
              "      <td>Male</td>\n",
              "      <td>0</td>\n",
              "      <td>0</td>\n",
              "      <td>40</td>\n",
              "      <td>United-States</td>\n",
              "      <td>&lt;=50K</td>\n",
              "    </tr>\n",
              "    <tr>\n",
              "      <th>3</th>\n",
              "      <td>53</td>\n",
              "      <td>Private</td>\n",
              "      <td>234721</td>\n",
              "      <td>11th</td>\n",
              "      <td>7</td>\n",
              "      <td>Married-civ-spouse</td>\n",
              "      <td>Handlers-cleaners</td>\n",
              "      <td>Husband</td>\n",
              "      <td>Black</td>\n",
              "      <td>Male</td>\n",
              "      <td>0</td>\n",
              "      <td>0</td>\n",
              "      <td>40</td>\n",
              "      <td>United-States</td>\n",
              "      <td>&lt;=50K</td>\n",
              "    </tr>\n",
              "    <tr>\n",
              "      <th>4</th>\n",
              "      <td>28</td>\n",
              "      <td>Private</td>\n",
              "      <td>338409</td>\n",
              "      <td>Bachelors</td>\n",
              "      <td>13</td>\n",
              "      <td>Married-civ-spouse</td>\n",
              "      <td>Prof-specialty</td>\n",
              "      <td>Wife</td>\n",
              "      <td>Black</td>\n",
              "      <td>Female</td>\n",
              "      <td>0</td>\n",
              "      <td>0</td>\n",
              "      <td>40</td>\n",
              "      <td>Cuba</td>\n",
              "      <td>&lt;=50K</td>\n",
              "    </tr>\n",
              "  </tbody>\n",
              "</table>\n",
              "</div>\n",
              "      <button class=\"colab-df-convert\" onclick=\"convertToInteractive('df-8b421f38-c933-4ecb-8bca-6be0e85e25ab')\"\n",
              "              title=\"Convert this dataframe to an interactive table.\"\n",
              "              style=\"display:none;\">\n",
              "        \n",
              "  <svg xmlns=\"http://www.w3.org/2000/svg\" height=\"24px\"viewBox=\"0 0 24 24\"\n",
              "       width=\"24px\">\n",
              "    <path d=\"M0 0h24v24H0V0z\" fill=\"none\"/>\n",
              "    <path d=\"M18.56 5.44l.94 2.06.94-2.06 2.06-.94-2.06-.94-.94-2.06-.94 2.06-2.06.94zm-11 1L8.5 8.5l.94-2.06 2.06-.94-2.06-.94L8.5 2.5l-.94 2.06-2.06.94zm10 10l.94 2.06.94-2.06 2.06-.94-2.06-.94-.94-2.06-.94 2.06-2.06.94z\"/><path d=\"M17.41 7.96l-1.37-1.37c-.4-.4-.92-.59-1.43-.59-.52 0-1.04.2-1.43.59L10.3 9.45l-7.72 7.72c-.78.78-.78 2.05 0 2.83L4 21.41c.39.39.9.59 1.41.59.51 0 1.02-.2 1.41-.59l7.78-7.78 2.81-2.81c.8-.78.8-2.07 0-2.86zM5.41 20L4 18.59l7.72-7.72 1.47 1.35L5.41 20z\"/>\n",
              "  </svg>\n",
              "      </button>\n",
              "      \n",
              "  <style>\n",
              "    .colab-df-container {\n",
              "      display:flex;\n",
              "      flex-wrap:wrap;\n",
              "      gap: 12px;\n",
              "    }\n",
              "\n",
              "    .colab-df-convert {\n",
              "      background-color: #E8F0FE;\n",
              "      border: none;\n",
              "      border-radius: 50%;\n",
              "      cursor: pointer;\n",
              "      display: none;\n",
              "      fill: #1967D2;\n",
              "      height: 32px;\n",
              "      padding: 0 0 0 0;\n",
              "      width: 32px;\n",
              "    }\n",
              "\n",
              "    .colab-df-convert:hover {\n",
              "      background-color: #E2EBFA;\n",
              "      box-shadow: 0px 1px 2px rgba(60, 64, 67, 0.3), 0px 1px 3px 1px rgba(60, 64, 67, 0.15);\n",
              "      fill: #174EA6;\n",
              "    }\n",
              "\n",
              "    [theme=dark] .colab-df-convert {\n",
              "      background-color: #3B4455;\n",
              "      fill: #D2E3FC;\n",
              "    }\n",
              "\n",
              "    [theme=dark] .colab-df-convert:hover {\n",
              "      background-color: #434B5C;\n",
              "      box-shadow: 0px 1px 3px 1px rgba(0, 0, 0, 0.15);\n",
              "      filter: drop-shadow(0px 1px 2px rgba(0, 0, 0, 0.3));\n",
              "      fill: #FFFFFF;\n",
              "    }\n",
              "  </style>\n",
              "\n",
              "      <script>\n",
              "        const buttonEl =\n",
              "          document.querySelector('#df-8b421f38-c933-4ecb-8bca-6be0e85e25ab button.colab-df-convert');\n",
              "        buttonEl.style.display =\n",
              "          google.colab.kernel.accessAllowed ? 'block' : 'none';\n",
              "\n",
              "        async function convertToInteractive(key) {\n",
              "          const element = document.querySelector('#df-8b421f38-c933-4ecb-8bca-6be0e85e25ab');\n",
              "          const dataTable =\n",
              "            await google.colab.kernel.invokeFunction('convertToInteractive',\n",
              "                                                     [key], {});\n",
              "          if (!dataTable) return;\n",
              "\n",
              "          const docLinkHtml = 'Like what you see? Visit the ' +\n",
              "            '<a target=\"_blank\" href=https://colab.research.google.com/notebooks/data_table.ipynb>data table notebook</a>'\n",
              "            + ' to learn more about interactive tables.';\n",
              "          element.innerHTML = '';\n",
              "          dataTable['output_type'] = 'display_data';\n",
              "          await google.colab.output.renderOutput(dataTable, element);\n",
              "          const docLink = document.createElement('div');\n",
              "          docLink.innerHTML = docLinkHtml;\n",
              "          element.appendChild(docLink);\n",
              "        }\n",
              "      </script>\n",
              "    </div>\n",
              "  </div>\n",
              "  "
            ]
          },
          "metadata": {},
          "execution_count": 4
        }
      ]
    },
    {
      "cell_type": "code",
      "source": [
        "(master_df.isna().sum()/len(master_df['age']))*100"
      ],
      "metadata": {
        "colab": {
          "base_uri": "https://localhost:8080/"
        },
        "id": "la6IwqDVWQmh",
        "outputId": "1ba7eb00-f2a5-4820-cf6c-1104750d6f41"
      },
      "execution_count": 5,
      "outputs": [
        {
          "output_type": "execute_result",
          "data": {
            "text/plain": [
              "age               0.000000\n",
              "workclass         5.638647\n",
              "fnlwgt            0.000000\n",
              "education         0.000000\n",
              "education-num     0.000000\n",
              "marital-status    0.000000\n",
              "occupation        5.660146\n",
              "relationship      0.000000\n",
              "race              0.000000\n",
              "sex               0.000000\n",
              "capital-gain      0.000000\n",
              "capital-loss      0.000000\n",
              "hours-per-week    0.000000\n",
              "country           1.790486\n",
              "salary            0.000000\n",
              "dtype: float64"
            ]
          },
          "metadata": {},
          "execution_count": 5
        }
      ]
    },
    {
      "cell_type": "markdown",
      "source": [
        "## 2. EDA Analysis"
      ],
      "metadata": {
        "id": "d9nUA27sFD-b"
      }
    },
    {
      "cell_type": "markdown",
      "source": [
        "### 2.1 Dynamic Plot software"
      ],
      "metadata": {
        "id": "KGpFLg4KFmbp"
      }
    },
    {
      "cell_type": "code",
      "source": [
        "### Plot handling functions\n",
        "\n",
        "def convert_dtype(input_df,input_dict):\n",
        "    \"\"\"\n",
        "    Use : Change data type as per requirement\n",
        "    Return : DataFrame with corrected dType\n",
        "    \"\"\"\n",
        "    output_df = input_df.astype(input_dict,)\n",
        "    return output_df\n",
        "\n",
        "\n",
        "def html_handler(input_str,filename,folder_name):\n",
        "    \"\"\"\n",
        "    Use : Create / Update HTML file\n",
        "    Return : None\n",
        "    \"\"\" \n",
        "    \n",
        "    try:\n",
        "        with open(f\"{folder_name}/{filename}.html\",'a') as file:\n",
        "            file.write(f\"<h2 align ='center' style='color:red'> {input_str} </h2>\")\n",
        "            file.write(\"\"\"<form> <input type=\"button\" value=\"Go back!\" onclick=\"history.back()\"> </form>\"\"\")\n",
        "    except Exception as e:\n",
        "        pass\n",
        "    return None\n",
        "\n",
        "\n",
        "def plotly_to_html(fig,filename,folder_name):\n",
        "    \"\"\"\n",
        "    Use : Store Plotly plot HTML file\n",
        "    Return : None\n",
        "    \"\"\"\n",
        "    \n",
        "    try:\n",
        "        with open(f\"{folder_name}/{filename}.html\", 'a') as f:\n",
        "            f.write(fig.to_html(full_html=False, include_plotlyjs='cdn'))\n",
        "    except Exception as e:\n",
        "        pass\n",
        "        \n",
        "    return None\n",
        "\n",
        "def html_create_index(input_str,filename,folder_name):\n",
        "    \"\"\"\n",
        "    Use : Create index file for all the plotly plot\n",
        "    Return : None\n",
        "    \"\"\"\n",
        "    parent_name=folder_name.split(\"/\")[0]    \n",
        "    #logging.info(f\"html_create_index called to create {folder_name}/{filename}.html and {parent_name}/EDA.html \")\n",
        "    \n",
        "\n",
        "    try:\n",
        "        if os.path.exists(f\"{parent_name}/EDA.html\"):\n",
        "            with open(f\"{parent_name}/EDA.html\",'a') as file:\n",
        "                file.write(f\"<li><a href={filename}/{filename}.html>{input_str}</a></li>\")\n",
        "        else:\n",
        "            with open(f\"{parent_name}/EDA.html\",'a') as file:\n",
        "                file.write(f\"<h1 align ='center' style='color:red'> Complete EDA </h1>\")\n",
        "                file.write(f\"<li><a href={filename}/{filename}.html>{input_str}</a></li>\")\n",
        "\n",
        "\n",
        "        with open(f\"{folder_name}/{filename}.html\",'a') as file:\n",
        "            file.write(f\"<h1 align ='center' style='color:red'> {input_str} </h1>\")\n",
        "            file.write(\"\"\"<form> <input type=\"button\" value=\"Go back!\" onclick=\"history.back()\"> </form>\"\"\")\n",
        "\n",
        "        for f in os.listdir(f\"{folder_name}\"):\n",
        "            if f.endswith('.html') and f!=f\"{filename}.html\":\n",
        "                with open(f\"{folder_name}/{filename}.html\",'a') as file:\n",
        "                    f_href=f.replace(\" \",\"%20\")\n",
        "                    file.write(f\"<li><a href={f_href}>{f}</a></li>\")\n",
        "            else:\n",
        "                pass\n",
        "    except Exception as e:\n",
        "        pass\n",
        "\n",
        "    return None"
      ],
      "metadata": {
        "id": "8Low9ff0HHd0"
      },
      "execution_count": 24,
      "outputs": []
    },
    {
      "cell_type": "code",
      "source": [
        "##*****************************************************************************************  \n",
        "## ************************* Function for Categorical Target Variavble ************************\n",
        "\n",
        "\n",
        "## ******Categorical Vs. Categorical Target variable\n",
        "\n",
        "def cat_cat_var_plot(df,target_col,filename=\"Graph4\",path=\"Graph4\"):\n",
        "    \"\"\"\n",
        "    Use : Create HTML Plot file for Categorical Vs. Categorical Target Variable\n",
        "    and combine it with overall EDA graph HTML\n",
        "    Return : None\n",
        "    \"\"\"\n",
        "    \n",
        "    path=f\"DynamicPlot/{path}\"\n",
        "    if not os.path.exists(path):\n",
        "        os.makedirs(path) \n",
        "    \n",
        "    try:\n",
        "        categorical_var_list=df.select_dtypes(include=[\"object\"])\n",
        "        for column in categorical_var_list:\n",
        "            html_handler(input_str=column,filename=column,folder_name=path)\n",
        "            inp_df=df.groupby(column)[target_col].count().reset_index(name=f'{column} : Count')\n",
        "            \n",
        "            try:\n",
        "                \n",
        "                fig1 = px.bar(inp_df, x=column, y=f'{column} : Count',color=column,\n",
        "                        barmode=\"group\",title=f'{column} : Count Plot')\n",
        "                fig1=fig1.update_layout(title_x=0.5,\n",
        "                                        title_font_family=\"Times New Roman\",\n",
        "                                        title_font_color=\"black\",title_font_size=20)       \n",
        "                plotly_to_html(fig=fig1,filename=column,folder_name=path)\n",
        "            except Exception as e:\n",
        "                pass\n",
        "\n",
        "            try:\n",
        "                \n",
        "                inp_df=df.groupby([target_col,column])[[target_col]].count().rename(columns={target_col:f\"{target_col}_count\"})\n",
        "                inp_df=inp_df.reset_index()\n",
        "                fig2 = px.bar(inp_df, x=target_col, \n",
        "                                y=f'{target_col}_count',color=column,\n",
        "                                barmode=\"group\",title=f'{column} :Stacked Count Plot')\n",
        "                fig2=fig2.update_layout(title_x=0.5,title_font_family=\"Times New Roman\",\n",
        "                                        title_font_color=\"black\",title_font_size=20)\n",
        "                plotly_to_html(fig=fig2,filename=column,folder_name=path)\n",
        "            except Exception as e:\n",
        "                pass\n",
        "\n",
        "            try:\n",
        "                \n",
        "                inp_df=df.groupby(column)[target_col].count().reset_index(name=f'{column} : Count')\n",
        "                fig3=px.pie(inp_df, values=f'{column} : Count', names=column, title=f'{column} : Pie Chart')\n",
        "                fig3=fig3.update_traces(textposition='inside', textinfo='percent+label')\n",
        "                fig3=fig3.update_layout(title_x=0.5,title_font_family=\"Times New Roman\",title_font_color=\"black\",\n",
        "                            title_font_size=20)\n",
        "                plotly_to_html(fig=fig3,filename=column,folder_name=path)\n",
        "            except Exception as e:\n",
        "                pass         \n",
        "\n",
        "    except Exception as e:\n",
        "                pass\n",
        "\n",
        "    html_create_index(input_str=\"Categorical Variable Analysis\",filename=\"Graph4\",folder_name=path)\n",
        "    \n",
        "    return None\n",
        "\n",
        "## ******Numerical Vs. Categorical Target variable\n",
        "\n",
        "def num_cat_var_plot(df,target_col,filename=\"Graph5\",path=\"Graph5\"):\n",
        "    \"\"\"\n",
        "    Use : Create HTML Plot file for Numerical Vs. Categorical Target Variable\n",
        "    and combine it with overall EDA graph HTML\n",
        "    Return : None\n",
        "    \"\"\"\n",
        "    \n",
        "\n",
        "    path=f\"DynamicPlot/{path}\"\n",
        "    \n",
        "    if not os.path.exists(path):\n",
        "        os.makedirs(path) \n",
        "    \n",
        "\n",
        "    try:\n",
        "        numerical_var_list=df.select_dtypes(exclude=[\"object\"])\n",
        "        for column in numerical_var_list:\n",
        "            \n",
        "            html_handler(input_str=column,filename=column,folder_name=path)\n",
        "            try:\n",
        "                \n",
        "                fig1=px.histogram(df, x=column,marginal=\"violin\",\n",
        "                                    hover_data=df.columns,title=f'{column} : Histogram Plot')\n",
        "                fig1=fig1.update_layout(title_x=0.5,title_font_family=\"Times New Roman\",\n",
        "                                        title_font_color=\"black\",title_font_size=20)        \n",
        "                plotly_to_html(fig=fig1,filename=column,folder_name=path)\n",
        "            except Exception as e:\n",
        "                pass\n",
        "\n",
        "            try:\n",
        "                \n",
        "                fig2=px.violin(df, y=column, points='all', box=True,title=f'{column} : Violin Plot')\n",
        "                fig2=fig2.update_layout(title_x=0.5,title_font_family=\"Times New Roman\",\n",
        "                                title_font_color=\"black\",title_font_size=20)\n",
        "                plotly_to_html(fig=fig2,filename=column,folder_name=path)\n",
        "            except Exception as e:\n",
        "                pass\n",
        "\n",
        "            try:\n",
        "                \n",
        "                fig3=px.violin(df, x=target_col,y=column,color=target_col, points='all', box=True,title=f'{column} : Violin Plot')\n",
        "                fig3=fig3.update_layout(title_x=0.5,title_font_family=\"Times New Roman\",\n",
        "                                title_font_color=\"black\",title_font_size=20)        \n",
        "                plotly_to_html(fig=fig3,filename=column,folder_name=path)\n",
        "            except Exception as e:\n",
        "                pass\n",
        "\n",
        "            try:\n",
        "                \n",
        "                inp_df=df.groupby(target_col)[column].agg([\"mean\",\"median\"]).reset_index().rename(columns={'mean': f'Mean : {column}','median':f'Median : {column}'})\n",
        "                fig4 = px.bar(inp_df, x=target_col, y=[f'Mean : {column}',f'Median : {column}'],\n",
        "                        barmode=\"group\",title=f'{column} : Mean Plot')\n",
        "                fig4=fig4.update_layout(title_x=0.5,title_font_family=\"Times New Roman\",\n",
        "                                        title_font_color=\"black\",title_font_size=20)\n",
        "                plotly_to_html(fig=fig4,filename=column,folder_name=path) \n",
        "            except Exception as e:\n",
        "                pass\n",
        "\n",
        "    except Exception as e:\n",
        "                pass\n",
        "    \n",
        "    html_create_index(input_str=\"Numerical Variable Analysis\",filename=\"Graph5\",folder_name=path)\n",
        "    \n",
        "\n",
        "    return None\n",
        "    \n",
        "\n",
        "## ******Null Vs. Categorical Target variable\n",
        "def null_cat_var_plot(df,target_col,filename=\"Graph6\",path=\"Graph6\"):\n",
        "    \"\"\"\n",
        "    Use : Create HTML Plot file for Null Vs. Categorical Target Variable\n",
        "    and combine it with overall EDA graph HTML\n",
        "    Return : None\n",
        "    \"\"\"\n",
        "    \n",
        "\n",
        "    path=f\"DynamicPlot/{path}\"\n",
        "\n",
        "    if not os.path.exists(path):\n",
        "        os.makedirs(path)\n",
        "\n",
        "    try:\n",
        "        null_var_list=df.columns[df.isnull().any()].tolist()\n",
        "        null_var_list.append(target_col)\n",
        "        null_df=df[null_var_list]\n",
        "\n",
        "        for column in null_df.iloc[:,:-1]:\n",
        "            \n",
        "            html_handler(input_str=column,filename=column,folder_name=path)\n",
        "\n",
        "            null_df[column]=np.where(null_df[column].isnull(),\"Null\",\"Not Null\")\n",
        "            inp_df=null_df.groupby(column)[target_col].count().reset_index()\n",
        "\n",
        "            try:\n",
        "                \n",
        "                fig1 = px.bar(inp_df, x=column, y=target_col,color=column,\n",
        "                                barmode=\"group\",title=f'{column} : Null Value Count Plot')\n",
        "                fig1=fig1.update_layout(title_x=0.5,title_font_family=\"Times New Roman\",\n",
        "                                title_font_color=\"black\", title_font_size=15)\n",
        "                plotly_to_html(fig=fig1,filename=column,folder_name=path)\n",
        "            except Exception as e:\n",
        "                pass\n",
        "\n",
        "    except Exception as e:\n",
        "                pass\n",
        "    \n",
        "    html_create_index(input_str=\"Null Value Analysis\",filename=\"Graph6\",folder_name=path)\n",
        "    \n",
        "\n",
        "\n",
        "\n",
        "##*****************************************************************************************  \n",
        "## ************************* Multivariate Analysis ************************\n",
        "\n",
        "def mul_var_plot(df,target_col,filename=\"Graph7\",path=\"Graph7\"):\n",
        "    \"\"\"\n",
        "    Use : Create HTML Plot file for Multivariate Analysis\n",
        "    and combine it with overall EDA graph HTML\n",
        "    Return : None\n",
        "    \"\"\"\n",
        "    \n",
        "    path=f\"DynamicPlot/{path}\"\n",
        "    if not os.path.exists(path):\n",
        "        os.makedirs(path) \n",
        "\n",
        "    html_handler(input_str=f\"Multivariate Analysis : Target Variable {target_col}\",filename=filename,folder_name=path)\n",
        "\n",
        "    \n",
        "\n",
        "    try:\n",
        "        #numerical_var_list=df.select_dtypes(exclude=[\"object\"])\n",
        "        corr_df = df.corr()\n",
        "        corrSale_df=pd.DataFrame(corr_df[target_col])\n",
        "        corrSale_df.reset_index(inplace=True)\n",
        "        corrSale_df.sort_values(by=target_col,ascending=True,inplace=True)\n",
        "        corrSale_df.dropna(inplace=True)\n",
        "        corrSale_df.columns=[\"Feature\",\"Pearson_Corr\"]\n",
        "        \n",
        "        fig1 = px.bar(corrSale_df, y=\"Feature\", x=\"Pearson_Corr\",\n",
        "                        color=\"Pearson_Corr\",\n",
        "                        barmode=\"group\",\n",
        "                        title=f'Correlation Plot-1 : Target Variable {target_col}')\n",
        "        fig1=fig1.update_layout(title_x=0.5,\n",
        "                                title_font_family=\"Times New Roman\",\n",
        "                                title_font_color=\"black\",\n",
        "                                title_font_size=20)\n",
        "        plotly_to_html(fig=fig1,filename=filename,folder_name=path)\n",
        "    except Exception as e:\n",
        "                pass\n",
        "    try:\n",
        "        \n",
        "        fig2=px.imshow(corr_df, text_auto=True, \n",
        "                        aspect=\"auto\",\n",
        "                        title=f'Correlation Plot-2 : Target Variable {target_col}')\n",
        "        fig2=fig2.update_layout(title_x=0.5,\n",
        "                            title_font_family=\"Times New Roman\",\n",
        "                            title_font_color=\"black\",\n",
        "                            title_font_size=20)\n",
        "        plotly_to_html(fig=fig2,filename=filename,folder_name=path)\n",
        "    except Exception as e:\n",
        "                pass\n",
        "\n",
        "    html_create_index(input_str=\"Multivariate Analysis : Target Variable\",filename=\"Graph7\",folder_name=path)\n",
        "\n",
        "\n",
        "##*****************************************************************************************  \n",
        "## ************************* SWEETVIZ and PANDAS PROFILING ********************************\n",
        "\n",
        "def SweetViz_report(df,filename=\"Graph8\",path=\"Graph8\"):\n",
        "    \"\"\"\n",
        "    Use : Create HTML plot using SweetViz\n",
        "    and combine it with overall EDA graph HTML\n",
        "    Return : None\n",
        "    \"\"\"\n",
        "    \n",
        "\n",
        "    path=f\"DynamicPlot/{path}\"\n",
        "    if not os.path.exists(path):\n",
        "        os.makedirs(path) \n",
        "    \n",
        "    try:\n",
        "        \n",
        "        #html_handler(input_str=\"SweetViz Report\",filename=\"SweetViz\",folder_name=path)\n",
        "        my_report=sv.analyze(df,feat_cfg=None)\n",
        "        my_report.show_html(f\"{path}/{filename}.html\",open_browser=False)\n",
        "        html_create_index(input_str=\"SweetViz Report\",filename=filename,folder_name=path)\n",
        "        #feature_config = sv.FeatureConfig(skip=\"\", force_text=[\"\"])\n",
        "        #Compare Two DataFrame i.e. e.g. Test vs Training sets\n",
        "        #my_report = sv.compare()\n",
        "        # Comparing two subsets of the same dataframe (i.e. Male vs Female)\n",
        "        #  my_report = sv.compare_intra()\n",
        "    except Exception as e:\n",
        "                pass\n",
        "    return None\n",
        "\n",
        "\n",
        "def PandaProfile_report(df,target_col,filename=\"Graph9\",path=\"Graph9\",minimal_ip=False):\n",
        "    \"\"\"\n",
        "    Use : Create HTML plot using PandaProfiling\n",
        "    and combine it with overall EDA graph HTML\n",
        "    Return : None\n",
        "    For Big data turn --> minimal_ip=True\n",
        "    \"\"\"\n",
        "    \n",
        "    path=f\"DynamicPlot/{path}\"\n",
        "    if not os.path.exists(path):\n",
        "        os.makedirs(path) \n",
        "    \n",
        "    try:\n",
        "        \n",
        "        #html_handler(input_str=\"PandaProfiling Report\",filename=\"PandaProfiling\",folder_name=path)\n",
        "        profile = pp.ProfileReport(df,title=\"PandaProfiling Report\",explorative=True,minimal=minimal_ip)\n",
        "        # minimal=True -->> For Big Dataset\n",
        "        profile.to_file(f\"{path}/{filename}.html\")\n",
        "        html_create_index(input_str=\"PandaProfiling Report\",filename=filename,folder_name=path)\n",
        "    except Exception as e:\n",
        "        pass\n",
        "    return None"
      ],
      "metadata": {
        "id": "HxTCi9JKFF7Z"
      },
      "execution_count": 25,
      "outputs": []
    },
    {
      "cell_type": "code",
      "source": [
        "cat_cat_var_plot(master_df,target_col=\"salary\",filename=\"Graph4\",path=\"Graph4\")\n",
        "num_cat_var_plot(master_df,target_col=\"salary\",filename=\"Graph5\",path=\"Graph5\")\n",
        "null_cat_var_plot(master_df,target_col=\"salary\",filename=\"Graph6\",path=\"Graph6\")\n",
        "SweetViz_report(master_df,filename=\"Graph8\",path=\"Graph8\")\n",
        "PandaProfile_report(master_df,target_col=\"salary\",filename=\"Graph9\",path=\"Graph9\",minimal_ip=False)"
      ],
      "metadata": {
        "colab": {
          "base_uri": "https://localhost:8080/",
          "height": 205,
          "referenced_widgets": [
            "6c8c763d1e7645a090bb5a462c06fc95",
            "0224c5cdbd444bac9718885bc4fe1772",
            "8b0c2eeab1c94910ac6af52b566ae666",
            "9e639d982eac4d16b2507012db9fc2e3",
            "d5bca50b386b41e88d55ac4b75e9186b",
            "2c9a3b0d954b4c12b9085c0132b4574e",
            "a795a84da3524c26a63d638705e98b8b",
            "b6149df67719481dbd40b9e8e969aa91",
            "8c373d4e4015457ca71f9057ca65a65b",
            "fb169a425f2d4b58ba4e1846966d5924",
            "b6f451e09eab4a2b9c50994942968896"
          ]
        },
        "id": "EHHhqtSbKdRH",
        "outputId": "72ba7324-5c1e-400b-a40d-598a1372832d"
      },
      "execution_count": 26,
      "outputs": [
        {
          "output_type": "stream",
          "name": "stderr",
          "text": [
            "/usr/local/lib/python3.7/dist-packages/ipykernel_launcher.py:158: SettingWithCopyWarning:\n",
            "\n",
            "\n",
            "A value is trying to be set on a copy of a slice from a DataFrame.\n",
            "Try using .loc[row_indexer,col_indexer] = value instead\n",
            "\n",
            "See the caveats in the documentation: https://pandas.pydata.org/pandas-docs/stable/user_guide/indexing.html#returning-a-view-versus-a-copy\n",
            "\n"
          ]
        },
        {
          "output_type": "display_data",
          "data": {
            "text/plain": [
              "                                             |          | [  0%]   00:00 -> (? left)"
            ],
            "application/vnd.jupyter.widget-view+json": {
              "version_major": 2,
              "version_minor": 0,
              "model_id": "6c8c763d1e7645a090bb5a462c06fc95"
            }
          },
          "metadata": {}
        },
        {
          "output_type": "stream",
          "name": "stdout",
          "text": [
            "Report DynamicPlot/Graph8/Graph8.html was generated.\n"
          ]
        }
      ]
    },
    {
      "cell_type": "code",
      "source": [
        "!zip -r /content/Static.zip /content/StaticPlot\n",
        "#!rm -rf DynamicPlot\n",
        "#!rm -rf StaticPlot"
      ],
      "metadata": {
        "colab": {
          "base_uri": "https://localhost:8080/"
        },
        "id": "90_-JtzvLc8S",
        "outputId": "4707ec7e-1127-48e8-efd8-9566a52b296f"
      },
      "execution_count": 31,
      "outputs": [
        {
          "output_type": "stream",
          "name": "stdout",
          "text": [
            "  adding: content/StaticPlot/ (stored 0%)\n",
            "  adding: content/StaticPlot/cat_cat_var_plot25-06-22_1544.pdf (deflated 13%)\n",
            "  adding: content/StaticPlot/null_cat_var_plot25-06-22_1544.pdf (deflated 53%)\n",
            "  adding: content/StaticPlot/num_cat_var_plot25-06-22_1544.pdf (deflated 8%)\n"
          ]
        }
      ]
    },
    {
      "cell_type": "markdown",
      "source": [
        "### 2.2 Static Graph function"
      ],
      "metadata": {
        "id": "Gh-kjmsNF30T"
      }
    },
    {
      "cell_type": "code",
      "source": [
        "def plot_size(graphsize):\n",
        "    \"\"\"\n",
        "    Use : Plot size selection\n",
        "    Return : Plot/Fig. Size\n",
        "    \"\"\"\n",
        "    ## (Width*Height)\n",
        "    if graphsize==\"A4\":\n",
        "        fig_size=(11,8.5)\n",
        "    elif graphsize==\"A3\" :\n",
        "        fig_size=(16.5,12)\n",
        "    elif graphsize==\"mid\":\n",
        "        fig_size=(24,14)\n",
        "    elif graphsize==\"big\":\n",
        "        fig_size=(30,17.5)\n",
        "    else:\n",
        "        fig_size=(30,17.5) # By-Default big size\n",
        "    \n",
        "    return fig_size\n",
        "\n",
        "\n",
        "\n",
        "## ******Categorical Vs. Categorical Target variable\n",
        "def cat_cat_var_plot(df,target_col,graphsize=\"big\",plot_style=\"ggplot\"):\n",
        "    \"\"\"\n",
        "    Use : Create PDF Plot file for\n",
        "    Categorical Vs. Categorical Target Variable\n",
        "    Return : None\n",
        "\n",
        "    Graphsize=A4,A3,mid,big default=big\n",
        "    #print(plt.style.available)\n",
        "    \"\"\" \n",
        "    style.use(plot_style)\n",
        "    \n",
        "    path=\"StaticPlot\"\n",
        "\n",
        "    if not os.path.exists(path):\n",
        "        os.makedirs(path)\n",
        "\n",
        "    pdf_file_name= f\"{path}/cat_cat_var_plot\" + datetime.now(pytz.timezone('Asia/Kolkata')).strftime(\"%d-%m-%y_%H%M\") + \".pdf\"   \n",
        "    graph_pdf = PdfPages(pdf_file_name)\n",
        "    \n",
        " \n",
        "    \n",
        "    try:\n",
        "        categorical_var_list=df.select_dtypes(include=[\"object\"])\n",
        "\n",
        "        for column in categorical_var_list:    \n",
        "            work_figure = plt.figure(constrained_layout=False, figsize=plot_size(graphsize))\n",
        "            grid = gridspec.GridSpec(ncols=2, nrows=2, figure=work_figure)\n",
        "\n",
        "            try:\n",
        "                \n",
        "                ax1 = work_figure.add_subplot(grid[0,0]) ## 1st Row, 1 Column\n",
        "                ax1.set_title(column.upper() + ' : Count Plot')\n",
        "                sns.countplot(x=column,data = df,\n",
        "                            order = df[column].value_counts().index,ax = ax1)\n",
        "                plt.xticks(rotation=90)\n",
        "                for p in ax1.patches:\n",
        "                    ax1.annotate('{:.0f}'.format(p.get_height()),(p.get_x()+0.2, p.get_height()+2))\n",
        "            except Exception as e:\n",
        "                    pass\n",
        "\n",
        "            try:\n",
        "                \n",
        "                ax2 = work_figure.add_subplot(grid[1, 0]) ## 2 nd Row, 1 Column\n",
        "                ax2.set_title(column.upper() + ' : Stack Column Plot ')\n",
        "                sns.countplot(x=column,data = df,\n",
        "                            order = df[column].value_counts().index,\n",
        "                            hue=target_col,ax = ax2)\n",
        "                for p in ax2.patches:\n",
        "                    ax2.annotate('{:.0f}'.format(p.get_height()),(p.get_x()+0.2, p.get_height()+2))\n",
        "                #df_plot = df.groupby([target_col,column]).size().reset_index().pivot(columns=target_col, index=column, values=0)\n",
        "                #df_plot.plot(kind='bar', stacked=True,ax = ax2)\n",
        "                plt.xticks(rotation=90)\n",
        "            except Exception as e:\n",
        "                pass\n",
        "\n",
        "\n",
        "            try: \n",
        "                    \n",
        "                ax3 = work_figure.add_subplot(grid[:, 1]) ## Entire 2nd Column >>  [:, 1] This use complete Second Column\n",
        "                df[column].value_counts().plot.pie(autopct = \"%2.2f%%\", ax=ax3)\n",
        "                ax3.set_title(column.upper() + ' : Pie Plot')\n",
        "            except Exception as e:\n",
        "                pass\n",
        "\n",
        "            work_figure.tight_layout()\n",
        "            #plt.show()\n",
        "            \n",
        "            graph_pdf.savefig(work_figure)\n",
        "\n",
        "    except Exception as e:\n",
        "        pass\n",
        "\n",
        "    graph_pdf.close()\n",
        "\n",
        "    return None\n",
        "\n",
        "\n",
        "## ******Numerical Vs. Categorical Target variable\n",
        "def num_cat_var_plot(df,target_col,graphsize=\"big\",plot_style=\"ggplot\"):\n",
        "    \"\"\"\n",
        "    Use : Create PDF Plot file for\n",
        "    Numerical Vs. Categorical Target Variable\n",
        "    Return : None\n",
        "\n",
        "    Graphsize=A4,A3,mid,big default=big\n",
        "    #print(plt.style.available)\n",
        "    \"\"\"\n",
        "    \n",
        "    \n",
        "    style.use(plot_style)\n",
        "    \n",
        "    path=\"StaticPlot\"\n",
        "\n",
        "    if not os.path.exists(path):\n",
        "        os.makedirs(path)\n",
        "\n",
        "    pdf_file_name= f\"{path}/num_cat_var_plot\" + datetime.now(pytz.timezone('Asia/Kolkata')).strftime(\"%d-%m-%y_%H%M\") + \".pdf\"   \n",
        "    graph_pdf = PdfPages(pdf_file_name)\n",
        "    \n",
        " \n",
        "    try:\n",
        "        numerical_var_list=df.select_dtypes(exclude=[\"object\"])\n",
        "        for column in numerical_var_list:\n",
        "            work_figure = plt.figure(constrained_layout=False, figsize=plot_size(graphsize))## Width , Height\n",
        "            grid = gridspec.GridSpec(ncols=2, nrows=2, figure=work_figure)\n",
        "\n",
        "            try:\n",
        "                \n",
        "                ax1 = work_figure.add_subplot(grid[0, :1])\n",
        "                ax1.set_title(column.upper()+': Density Plot')\n",
        "                sns.distplot(df[column],ax = ax1)\n",
        "            except Exception as e:\n",
        "                pass\n",
        "\n",
        "\n",
        "            try:\n",
        "                \n",
        "                ax2 = work_figure.add_subplot(grid[1, :1])\n",
        "                plt.hist(data = df,x=column)\n",
        "                plt.title(column.upper()+' : Histogram',ax = ax2)\n",
        "            except Exception as e:\n",
        "                pass\n",
        "\n",
        "            try:\n",
        "                \n",
        "                ax3 = work_figure.add_subplot(grid[0, 1])\n",
        "                sns.boxplot(df[column], ax=ax3)\n",
        "                plt.title(column.upper() + \" : Box Plot\")\n",
        "            except Exception as e:\n",
        "                pass\n",
        "\n",
        "            try:\n",
        "                \n",
        "                ax4 = work_figure.add_subplot(grid[1, 1])\n",
        "                ax4.set_title(column.upper() + ' : Box Plot ')\n",
        "                sns.boxplot(x=target_col, y=column, data = df,\n",
        "                            order = df[target_col].value_counts().index,ax=ax4)\n",
        "                plt.xticks(rotation=90)\n",
        "            except Exception as e:\n",
        "                pass\n",
        "\n",
        "            work_figure.tight_layout() \n",
        "            #plt.show()\n",
        "            \n",
        "            graph_pdf.savefig(work_figure)\n",
        "\n",
        "    except Exception as e:\n",
        "        pass\n",
        "\n",
        "    graph_pdf.close()\n",
        "\n",
        "    return None\n",
        "\n",
        "\n",
        "## ******Null Vs. Categorical Target variable\n",
        "def null_cat_var_plot(df,target_col,graphsize=\"big\",plot_style=\"ggplot\"):\n",
        "    \"\"\"\n",
        "    Use : Create PDF Plot file for\n",
        "    Null Vs. Categorical Target Variable\n",
        "    Return : None\n",
        "\n",
        "    Graphsize=A4,A3,mid,big default=big\n",
        "    #print(plt.style.available)\n",
        "    \"\"\"\n",
        "    \n",
        "    \n",
        "    style.use(plot_style)\n",
        "    \n",
        "    path=\"StaticPlot\"\n",
        "\n",
        "    if not os.path.exists(path):\n",
        "        os.makedirs(path)\n",
        "\n",
        "    pdf_file_name= f\"{path}/null_cat_var_plot\" + datetime.now(pytz.timezone('Asia/Kolkata')).strftime(\"%d-%m-%y_%H%M\") + \".pdf\"   \n",
        "    graph_pdf = PdfPages(pdf_file_name)\n",
        "    \n",
        "\n",
        "    try:\n",
        "        for column in df:\n",
        "            df_temp=df.copy()\n",
        "            df_temp[column]=np.where(df[column].isnull(),\"Null\",\"Not Null\")\n",
        "            grouped_data=df_temp.groupby(column)[target_col]\n",
        "            \n",
        "        if (df[column].isnull().sum()>=1):     \n",
        "            work_figure = plt.figure(constrained_layout=False, figsize=plot_size(graphsize))\n",
        "            grid = gridspec.GridSpec(ncols=2, nrows=2, figure=work_figure)\n",
        "\n",
        "            try:\n",
        "                \n",
        "                ax1 = work_figure.add_subplot(grid[0,0]) ## 1st Row, 1 Column\n",
        "                ax1.set_title(column.upper() + ' : Null Value COUNT Analysis')\n",
        "                grouped_data.count().plot.bar(ax = ax1)\n",
        "                for p in ax1.patches:\n",
        "                    ax1.annotate('{:.0f}'.format(p.get_height()),(p.get_x()+0.2, p.get_height()+2))\n",
        "            except Exception as e:\n",
        "                pass\n",
        "\n",
        "            try:\n",
        "                \n",
        "                ax2 = work_figure.add_subplot(grid[0,1])\n",
        "                ax2.set_title(column.upper() + ' : Null Value Count Analysis')\n",
        "                \n",
        "                Null_val_per=f\"Null Value % : {np.round(df[column].isnull().mean()*100,2)}\" \n",
        "\n",
        "                ax2.text(0.5,0.5,Null_val_per,\n",
        "                        horizontalalignment='left',\n",
        "                        verticalalignment='center',\n",
        "                        transform = ax2.transAxes,color='b', weight='bold',fontsize = 15)  \n",
        "            except Exception as e:\n",
        "                pass\n",
        "\n",
        "            try:\n",
        "                \n",
        "                ax3 = work_figure.add_subplot(grid[1,0])\n",
        "                ax3.set_title('Not Applicable')\n",
        "            except Exception as e:\n",
        "                pass\n",
        "            \n",
        "            try:\n",
        "               \n",
        "                ax4 = work_figure.add_subplot(grid[1,1])\n",
        "                ax4.set_title('Not Applicable')\n",
        "            except Exception as e:\n",
        "                pass\n",
        "            \n",
        "            work_figure.tight_layout(pad=10, w_pad=10, h_pad=10.0)\n",
        "            #plt.show()\n",
        "            \n",
        "            graph_pdf.savefig(work_figure) #papertype=graphsize\n",
        "\n",
        "    except Exception as e:\n",
        "        pass\n",
        "\n",
        "    graph_pdf.close()\n",
        "\n",
        "    return None\n"
      ],
      "metadata": {
        "id": "SrpDC5BlMzx0"
      },
      "execution_count": 28,
      "outputs": []
    },
    {
      "cell_type": "code",
      "source": [
        "cat_cat_var_plot(master_df,target_col=\"salary\",graphsize=\"A3\",plot_style=\"ggplot\")\n",
        "num_cat_var_plot(master_df,target_col=\"salary\",graphsize=\"A3\",plot_style=\"ggplot\")\n",
        "null_cat_var_plot(master_df,target_col=\"salary\",graphsize=\"A3\",plot_style=\"ggplot\")"
      ],
      "metadata": {
        "id": "mNVC8vktNsuP"
      },
      "execution_count": null,
      "outputs": []
    },
    {
      "cell_type": "code",
      "source": [
        "!zip -r /content/StaticPlot.zip /content/DynamicPlot"
      ],
      "metadata": {
        "id": "8QavXS77OMoB"
      },
      "execution_count": null,
      "outputs": []
    },
    {
      "cell_type": "markdown",
      "source": [
        "### 2.3 Observations based on EDA graphs"
      ],
      "metadata": {
        "id": "J_0Yx825P6rh"
      }
    },
    {
      "cell_type": "markdown",
      "source": [
        "**For detailed EDA refer Inreractive HTML file and PDF graph file**"
      ],
      "metadata": {
        "id": "1hu1tMk0k0oB"
      }
    },
    {
      "cell_type": "markdown",
      "source": [
        "Prpbablity of earning >50 K if folloing status :\n",
        "\n",
        "\n",
        "*   Husband\n",
        "*   Residing in US (90 % of people\n",
        "*   Married-Cil-Spouse\n",
        "*   White race\n",
        "* Prof-Speciality and Craft Repair occupation\n",
        "* Male\n",
        "* Fed-Gov. employee\n"
      ],
      "metadata": {
        "id": "xd2C-j_PkLmP"
      }
    },
    {
      "cell_type": "markdown",
      "source": [
        "## 3. Building Model"
      ],
      "metadata": {
        "id": "kMQI57ocQPbF"
      }
    },
    {
      "cell_type": "markdown",
      "source": [
        "### Model using AutoSklearn"
      ],
      "metadata": {
        "id": "b4cJwb6eQSWs"
      }
    },
    {
      "cell_type": "code",
      "source": [
        "#!pip install auto-sklearn"
      ],
      "metadata": {
        "id": "bA2-1PSUQUvk"
      },
      "execution_count": 7,
      "outputs": []
    },
    {
      "cell_type": "code",
      "source": [
        "## Imputing Null values using KNN imputer\n",
        "#from sklearn.impute import KNNImputer\n",
        "#imputer = KNNImputer(n_neighbors=2)\n",
        "#master_df_imputed = imputer.fit_transform(master_df)"
      ],
      "metadata": {
        "id": "6sQ2FPShZC69"
      },
      "execution_count": null,
      "outputs": []
    },
    {
      "cell_type": "code",
      "source": [
        "## replacing Null values with NAN\n",
        "\n",
        "master_df[\"workclass\"].fillna(master_df[\"workclass\"].mode()[0], inplace=True)\n",
        "master_df[\"occupation\"].fillna(master_df[\"occupation\"].mode()[0], inplace=True)\n",
        "master_df[\"country\"].fillna(master_df[\"country\"].mode()[0], inplace=True)"
      ],
      "metadata": {
        "id": "ezQ6uQnvTkUF"
      },
      "execution_count": 35,
      "outputs": []
    },
    {
      "cell_type": "code",
      "source": [
        "X=master_df.drop(\"salary\",axis=1)\n",
        "one_hot_encoded_data = pd.get_dummies(X, columns = ['workclass', 'education','marital-status','occupation','relationship','race','sex','country'])\n",
        "y=master_df[\"salary\"]\n",
        "y=y.replace(\" >50K\",1)\n",
        "y=y.replace(\" <=50K\",0)"
      ],
      "metadata": {
        "id": "fHMVciegQa8Q"
      },
      "execution_count": 36,
      "outputs": []
    },
    {
      "cell_type": "code",
      "source": [
        "y=master_df[\"salary\"]\n",
        "y=y.replace(\" >50K\",1)\n",
        "y=y.replace(\" <=50K\",0)"
      ],
      "metadata": {
        "id": "lALzx9M3a_af"
      },
      "execution_count": 37,
      "outputs": []
    },
    {
      "cell_type": "code",
      "source": [
        "X_train,X_val,y_train,y_val = train_test_split(one_hot_encoded_data,y,test_size=0.3,random_state=42)"
      ],
      "metadata": {
        "id": "MnAWCdPnSRjq"
      },
      "execution_count": 38,
      "outputs": []
    },
    {
      "cell_type": "code",
      "source": [
        "automl = classification.AutoSklearnClassifier(\n",
        "    time_left_for_this_task=60*10,\n",
        "    per_run_time_limit=2*60)\n",
        "    \n",
        "#scoring_functions=[auto_r2,auto_mse],"
      ],
      "metadata": {
        "id": "4FaGqoSDQe1y"
      },
      "execution_count": 40,
      "outputs": []
    },
    {
      "cell_type": "code",
      "source": [
        "automl.fit(X_train, y_train)"
      ],
      "metadata": {
        "colab": {
          "base_uri": "https://localhost:8080/"
        },
        "id": "n09At2AURmol",
        "outputId": "0d46e233-a4dc-4fe9-d480-e1e5952afb77"
      },
      "execution_count": 41,
      "outputs": [
        {
          "output_type": "execute_result",
          "data": {
            "text/plain": [
              "AutoSklearnClassifier(per_run_time_limit=120, time_left_for_this_task=600)"
            ]
          },
          "metadata": {},
          "execution_count": 41
        }
      ]
    },
    {
      "cell_type": "code",
      "source": [
        "# summarize\n",
        "print(automl.sprint_statistics())"
      ],
      "metadata": {
        "id": "6Fw1GzVkbtY_"
      },
      "execution_count": null,
      "outputs": []
    },
    {
      "cell_type": "code",
      "source": [
        "pd.DataFrame(automl.leaderboard(detailed = True, ensemble_only=False))"
      ],
      "metadata": {
        "id": "Xd6KL8HKdXtO"
      },
      "execution_count": null,
      "outputs": []
    },
    {
      "cell_type": "code",
      "source": [
        "## This Give all the model details\n",
        "from pprint import pprint\n",
        "pprint(automl.show_models(),indent=4)"
      ],
      "metadata": {
        "id": "comYEUaidZ_B"
      },
      "execution_count": null,
      "outputs": []
    },
    {
      "cell_type": "code",
      "source": [
        "## This gives Selected Model\n",
        "pprint(automl.get_models_with_weights(),indent=4)"
      ],
      "metadata": {
        "id": "snL1nqjvdcOA"
      },
      "execution_count": null,
      "outputs": []
    },
    {
      "cell_type": "code",
      "source": [
        "## Cross Validation results\n",
        "pd.DataFrame(automl.cv_results_)"
      ],
      "metadata": {
        "id": "sWN_R9UPdeox"
      },
      "execution_count": null,
      "outputs": []
    },
    {
      "cell_type": "markdown",
      "source": [
        "##4. Predicting"
      ],
      "metadata": {
        "id": "RgUV21Qjdhv3"
      }
    },
    {
      "cell_type": "code",
      "source": [
        "train_pred = automl.predict(X_train)\n",
        "test_pred = automl.predict(X_val)"
      ],
      "metadata": {
        "id": "My0hbdsVdg5Y"
      },
      "execution_count": 42,
      "outputs": []
    },
    {
      "cell_type": "code",
      "source": [
        "print(\"F1 Score for Validation Data\",f1_score(y_val, test_pred))\n",
        "print(\"F1 Score for Training Data\",f1_score(y_train, train_pred))"
      ],
      "metadata": {
        "colab": {
          "base_uri": "https://localhost:8080/"
        },
        "id": "wZ8IqkmJeEII",
        "outputId": "db32c4be-e204-455b-db41-6744c2f73458"
      },
      "execution_count": 43,
      "outputs": [
        {
          "output_type": "stream",
          "name": "stdout",
          "text": [
            "F1 Score for Validation Data 0.7071797278273111\n",
            "F1 Score for Training Data 0.7666797488226059\n"
          ]
        }
      ]
    },
    {
      "cell_type": "code",
      "source": [
        "print(\"Accuracy Score for Validation Data\",accuracy_score(y_val, test_pred))\n",
        "print(\"Accuracy Score for Validation Data\",accuracy_score(y_train, train_pred))"
      ],
      "metadata": {
        "colab": {
          "base_uri": "https://localhost:8080/"
        },
        "id": "KuqhdqpPe18l",
        "outputId": "0e0b79ec-c240-4257-997e-652d4bd3f155"
      },
      "execution_count": 45,
      "outputs": [
        {
          "output_type": "stream",
          "name": "stdout",
          "text": [
            "Accuracy Score for Validation Data 0.8722489507626164\n",
            "Accuracy Score for Validation Data 0.8956651456651457\n"
          ]
        }
      ]
    },
    {
      "cell_type": "markdown",
      "source": [
        "## 5. RESULTS"
      ],
      "metadata": {
        "id": "YohtxpnEoyq0"
      }
    },
    {
      "cell_type": "markdown",
      "source": [
        "## F1 Score for Validation Data 0.7071797278273111\n",
        "## F1 Score for Training Data 0.7666797488226059"
      ],
      "metadata": {
        "id": "UV-PCy7JjGNh"
      }
    },
    {
      "cell_type": "markdown",
      "source": [
        "## Accuracy Score for Validation Data 0.8722489507626164\n",
        "## Accuracy Score for Validation Data 0.8956651456651457"
      ],
      "metadata": {
        "id": "rvSV5MEbjKqI"
      }
    }
  ]
}